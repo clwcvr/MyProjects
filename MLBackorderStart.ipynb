{
 "cells": [
  {
   "cell_type": "markdown",
   "metadata": {},
   "source": [
    "# Operationalizing a Machine Learning Pipeline to Predict Product Backorder"
   ]
  },
  {
   "cell_type": "markdown",
   "metadata": {},
   "source": [
    "## Purpose \n",
    " * Building Data Processing Pipelines\n",
    " * Implementing the Machine Learning Workflow\n",
    "\n",
    "![AppliedML_Workflow IMAGE](./images/AppliedML_Workflow.png)"
   ]
  },
  {
   "cell_type": "markdown",
   "metadata": {},
   "source": [
    "## Exercises\n",
    "\n",
    "In this project, I develop several machine learning pipelines for predicting product backorder. The dataset used has class-imbalance issue. Here I am presented with two datasets: train and test. The training set will be used for pre-processing, model development and model evaluation. The test set will be used for model evaluaiton. \n",
    "\n",
    "![img](./images/train-test.png)\n",
    "\n",
    "\n",
    "#### Part I \n",
    "\n",
    "In this part, I will curate the training set. To deal with the class-imbalance problem, you will need to sample this training dataset and create a balanced (or roughly balanced) training set. \n",
    "\n",
    "#### Part 2 \n",
    "\n",
    "Given the balanced training set, we will develop three unique pipelines. In each of this pipeline we remove outliers, perform automated feature selection, and then classify backorder. I will be using gridsearh with cross validataion for fitting the pipeline. \n",
    "\n",
    "Since I don't have access to the given test set, I take the curated training set and create two datasets: train-validation set and test set. I used train-validation set for fitting and fine tuning the pipeline, and employed the test set for giving an unbiased evaluation. \n",
    "\n",
    "I'll eventually compare these pipelines and store the best pipeline. \n",
    "\n",
    "#### Part 3: \n",
    "\n",
    "In the last section, I retrain the best pipeline with all the balanced training sets, but use the best model's parameters found in Part 2. Then, I evaluate this retrained pipeline using the given test set (unbiased evaluation). \n",
    "\n",
    "\n",
    "* [Part I - Preprocessing](./exercises/FP-Part1-Preprocessing.ipynb)\n",
    "* [Part II - Model Development](./exercises/FP-Part2-Model-Development.ipynb)\n",
    "* [Part II - Evaluation](./exercises/FP-Part3-Evaluation.ipynb)\n",
    "\n",
    "\n",
    ]
  },
 "metadata": {
  "kernelspec": {
   "display_name": "Python 3",
   "language": "python",
   "name": "python3"
  },
  "language_info": {
   "codemirror_mode": {
    "name": "ipython",
    "version": 3
   },
   "file_extension": ".py",
   "mimetype": "text/x-python",
   "name": "python",
   "nbconvert_exporter": "python",
   "pygments_lexer": "ipython3",
   "version": "3.7.3"
  }
 },
 "nbformat": 4,
 "nbformat_minor": 4
}
