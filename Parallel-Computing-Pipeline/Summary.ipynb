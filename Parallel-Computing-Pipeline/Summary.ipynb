{
 "cells": [
  {
   "cell_type": "markdown",
   "metadata": {},
   "source": [
    "# Parallel Computing Pipeline with Clickstream Data & AWS SageMaker\n",
    "\n",
    "This project involves building a data science pipeline using data from the University of California Irvine (UCI) Machine Learning Data Repository."
   ]
  },
  {
   "cell_type": "markdown",
   "metadata": {},
   "source": [
    "### I will build a Data Science Pipeline that includes these steps, all within the AWS SageMaker environment.\n",
    "\n",
    "* Data Import\n",
    "* Data Wrangler\n",
    "* Data Bias Exploration\n",
    "* ML Model Training\n",
    "* ML Fairness Measurement\n",
    "\n",
    "I will capture the relevant artifact, upload it, and link it into the cells below for reference."
   ]
  },
  {
   "cell_type": "markdown",
   "metadata": {},
   "source": [
    "##### Dataset and Model Predictions\n",
    "\n",
    "The dataset I chose for this assignment contains clickstream data from an online store for pregnant women. I have always found shoppers' data interesting when determining if they are just browsing or shopping for anything in particular. This is also because I hope to determine through Machine Learning what variables determine if the price of a particular product is higher than the average price for the entire product category for a given order. \n",
    "\n",
    "To access the data I chose for this module and its decsription, navigate here: https://archive.ics.uci.edu/ml/datasets/clickstream+data+for+online+shopping"
   ]
  },
  {
   "cell_type": "markdown",
   "metadata": {},
   "source": [
    "---\n",
    "\n",
    "## 1. Data Import"
   ]
  },
  {
   "cell_type": "markdown",
   "metadata": {},
   "source": [
    "##### See the image below of the S3 bucket and the contents of that bucket as the data file I referenced above.\n",
    "\n",
    "![AWS_SageMaker_S3Bucket.png MISSING](./images/AWS_SageMaker_S3Bucket.png)"
   ]
  },
  {
   "cell_type": "markdown",
   "metadata": {},
   "source": [
    "---\n",
    "\n",
    "## 2. Data Wrangler"
   ]
  },
  {
   "cell_type": "markdown",
   "metadata": {},
   "source": [
    "##### View the exported SageMaker Data Flow notebook below.\n",
    "\n",
    "[Data_Wrangler Notebook_for_Module_8](./story/SageMaker_DataWrangler.ipynb)"
   ]
  },
  {
   "cell_type": "markdown",
   "metadata": {},
   "source": [
    "---\n",
    "\n",
    "## 3. Data Bias Exploration"
   ]
  },
  {
   "cell_type": "markdown",
   "metadata": {},
   "source": [
    "##### View items below for images, screen shots, and notebooks that highlight my data bias exploration.\n",
    "\n",
    "[Data Bias Notebook_for_Module_8](./story/SageMaker_DataBias.ipynb)\n",
    "\n",
    "![AWS_SageMaker_Data_Exploration Output.png](./images/bias_report.png)"
   ]
  },
  {
   "cell_type": "markdown",
   "metadata": {},
   "source": [
    "---\n",
    "\n",
    "## 4. ML Model Training"
   ]
  },
  {
   "cell_type": "markdown",
   "metadata": {},
   "source": [
    "##### View link below from the SageMaker notebook used for training of initial evaluation (Train/Test) of the Machine Learning model.\n",
    "\n",
    "[Within_Data Bias Notebook_for_Module_8](./story/SageMaker_DataBias.ipynb)"
   ]
  },
  {
   "cell_type": "markdown",
   "metadata": {},
   "source": [
    "---\n",
    "\n",
    "## 5. ML Fairness Measurement"
   ]
  },
  {
   "cell_type": "markdown",
   "metadata": {},
   "source": [
    "##### View the SageMaker notebook that has been executed that explores the fairness of the deployed model.\n",
    "\n",
    "[Within_Data Bias Notebook_for_Module_8](./story/SageMaker_DataBias.ipynb)\n",
    "\n",
    "![AWS_SageMaker_Fairness Output.png](./images/explainability_report.png)"
   ]
  },
  {
   "cell_type": "markdown",
   "metadata": {},
   "source": [
    "---\n",
    "\n",
    "# This is the end."
   ]
  }
 ],
 "metadata": {
  "kernelspec": {
   "display_name": "Python 3",
   "language": "python",
   "name": "python3"
  },
  "language_info": {
   "codemirror_mode": {
    "name": "ipython",
    "version": 3
   },
   "file_extension": ".py",
   "mimetype": "text/x-python",
   "name": "python",
   "nbconvert_exporter": "python",
   "pygments_lexer": "ipython3",
   "version": "3.7.3"
  }
 },
 "nbformat": 4,
 "nbformat_minor": 2
}
